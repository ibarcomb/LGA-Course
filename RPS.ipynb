{
  "nbformat": 4,
  "nbformat_minor": 0,
  "metadata": {
    "colab": {
      "provenance": []
    },
    "kernelspec": {
      "name": "python3",
      "display_name": "Python 3"
    },
    "language_info": {
      "name": "python"
    }
  },
  "cells": [
    {
      "cell_type": "code",
      "execution_count": 3,
      "metadata": {
        "colab": {
          "base_uri": "https://localhost:8080/"
        },
        "id": "VYLadBiYp_y6",
        "outputId": "1a024202-ae91-4d10-93cc-53641782f9a3"
      },
      "outputs": [
        {
          "name": "stdout",
          "output_type": "stream",
          "text": [
            "Enter rock, paper, or scissors: Rock\n",
            "Computer chose: paper\n",
            "Computer wins!\n",
            "\n",
            "Do you want to play again? (yes/no): Yes\n",
            "Enter rock, paper, or scissors: Paper\n",
            "Computer chose: rock\n",
            "You win!\n",
            "\n",
            "Do you want to play again? (yes/no): No\n"
          ]
        }
      ],
      "source": [
        "import random\n",
        "\n",
        "def get_computer_choice():\n",
        "    return random.choice([\"rock\", \"paper\", \"scissors\"])\n",
        "\n",
        "def get_user_choice():\n",
        "    choice = input(\"Enter rock, paper, or scissors: \").lower()\n",
        "    while choice not in [\"rock\", \"paper\", \"scissors\"]:\n",
        "        print(\"Invalid choice. Try again.\")\n",
        "        choice = input(\"Enter rock, paper, or scissors: \").lower()\n",
        "    return choice\n",
        "\n",
        "def determine_winner(user, computer):\n",
        "    if user == computer:\n",
        "        return \"It's a tie!\"\n",
        "    elif (user == \"rock\" and computer == \"scissors\") or \\\n",
        "         (user == \"scissors\" and computer == \"paper\") or \\\n",
        "         (user == \"paper\" and computer == \"rock\"):\n",
        "        return \"You win!\"\n",
        "    else:\n",
        "        return \"Computer wins!\"\n",
        "\n",
        "def play():\n",
        "    user_choice = get_user_choice()\n",
        "    computer_choice = get_computer_choice()\n",
        "    print(f\"Computer chose: {computer_choice}\")\n",
        "    print(determine_winner(user_choice, computer_choice))\n",
        "    play_again = input(\"\\nDo you want to play again? (yes/no): \").lower()\n",
        "    if play_again == \"yes\":\n",
        "        play()\n",
        "\n",
        "play()"
      ]
    }
  ]
}